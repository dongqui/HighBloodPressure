{
 "cells": [
  {
   "cell_type": "code",
   "execution_count": 2,
   "metadata": {},
   "outputs": [
    {
     "data": {
      "text/plain": [
       "Index(['mod_d', 'id', 'year', 'region', 'sex', 'age', 'edu', 'ainc', 'marri_1',\n",
       "       'marri_2', 'di1_lt', 'di1_yr', 'di1_pr', 'di1_2', 'dj6_lt', 'dj6_pr',\n",
       "       'dj6_pt', 'dj8_lt', 'dj8_yr', 'dj8_pr', 'dj8_dg', 'dj8_pt', 'de1_lt',\n",
       "       'de1_yr', 'de1_pr', 'de1_dg', 'de1_pt', 'educ', 'graduat', 'bd1_11',\n",
       "       'bd2_1', 'bd2_31', 'bd2_32', 'dr_month', 'bp8', 'bs1_1', 'bs3_1',\n",
       "       'he_sbp', 'he_dbp', 'he_ht', 'he_wt', 'he_wc', 'he_bmi', 'he_glu'],\n",
       "      dtype='object')"
      ]
     },
     "execution_count": 2,
     "metadata": {},
     "output_type": "execute_result"
    }
   ],
   "source": [
    "import pandas as pd\n",
    "\n",
    "df = pd.read_csv('N04_KY.csv')\n",
    "\n",
    "# 지역\n",
    "# year 조사연도\n",
    "#he_glu 공복 혈당\n",
    "# edu 교육수준 재분류 코드\n",
    "# he_bmi bmi\n",
    "# he_wc 허리둘레\n",
    "# he_ht 체중\n",
    "# he_dbp 최종 이완기 혈압\n",
    "# he_sbp 최종 수축기 혈압\n",
    "# bs3_1 흡연 여부\n",
    "# bs1_1 bs1_1\n",
    "# bp8 하루 평균 수면시간\n",
    "# ainc 월평균 가구총소득\n",
    "# marri_1 결혼 여부\n",
    "# marri_2 결혼 상태\n",
    "# di1_lt 고혈압 평생유병여부\n",
    "# di1_yr 고혈압 만성여부 (1년간 3개월 이상)\n",
    "# di1_pr 고혈압 현재 유병 여부\n",
    "# di1_2 혈압 조절제 복용\n",
    "# dj6_lt 축농증 평생유병여부\n",
    "# dj6_pr 축농증 현재유병여부\n",
    "# dj6_pt 축농증 치료\n",
    "# dj8_lt 알레르기성 비염 평생유병여부\n",
    "# dj8_yr 알레르기성 비염 만성여부 (1년간 3개월 이상)\n",
    "# dj8_pr 알레르기성 비염 현재 유병여부\n",
    "# dj8_dg 의사진단 여부\n",
    "# dj8_pt 알레르기성 비염 치료\n",
    "# de1_lt 당뇨병 평생 유병 여부\n",
    "# de1_yr 당뇨병 de1_yr\n",
    "# de1_pr 당뇨병 현재 유병여부\n",
    "# de1_dg 당뇨병 의사진단 여부\n",
    "# de1_pt 당뇨병 치료\n",
    "# educ 교육 수준\n",
    "# graduat 교육 수준 -졸업 여부\n",
    "# bd1_11 1년간 음주 빈도\n",
    "# bd2_1 한 번에 마시는 음주량\n",
    "# bd2_31 남자고위험 음주 빈도\n",
    "# bd2_32 여자고위험 음주 빈도\n",
    "# dr_month 월간 음주율\n",
    "\n",
    "df.columns"
   ]
  }
 ],
 "metadata": {
  "kernelspec": {
   "display_name": "Python 3",
   "language": "python",
   "name": "python3"
  },
  "language_info": {
   "codemirror_mode": {
    "name": "ipython",
    "version": 3
   },
   "file_extension": ".py",
   "mimetype": "text/x-python",
   "name": "python",
   "nbconvert_exporter": "python",
   "pygments_lexer": "ipython3",
   "version": "3.8.5"
  }
 },
 "nbformat": 4,
 "nbformat_minor": 4
}
